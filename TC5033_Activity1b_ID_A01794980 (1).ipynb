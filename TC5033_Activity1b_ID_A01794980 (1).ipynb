{
  "cells": [
    {
      "cell_type": "markdown",
      "metadata": {
        "id": "go2tR33BLLoK"
      },
      "source": [
        "# TC 5033\n",
        "## Deep Learning\n",
        "## Fully Connected Deep Neural Networks\n",
        "\n",
        "#### Activity 1b: Implementing a Fully Connected Network for Kaggle ASL Dataset\n",
        "\n",
        "## Team Members\n",
        "Sergio Castro Reynoso\n",
        "\n",
        "Israel campos Báez\n",
        "\n",
        "Andrés Castillo Nassar\n",
        "\n",
        "Dante César Cervantes Gutiérrez\n",
        "\n",
        "Alan Camerino Cortés Cruz\n"
      ]
    },
    {
      "cell_type": "markdown",
      "metadata": {
        "id": "a7LSHAXkLLoO"
      },
      "source": [
        "## Introduction\n",
        "\n",
        "In this notebook, we implement a Fully Connected Neural Network (FCNN) from scratch using NumPy to classify American Sign Language (ASL) letters using the Kaggle ASL dataset. We apply lessons learned from a previous implementation on the MNIST dataset, including data standardization, gradient tracking, proper weight initialization, and improved gradient computations."
      ]
    },
    {
      "cell_type": "code",
      "execution_count": null,
      "metadata": {
        "colab": {
          "base_uri": "https://localhost:8080/"
        },
        "id": "oYgqangVLLoP",
        "outputId": "06cfe85c-07bd-403c-83a3-10fcf854393f"
      },
      "outputs": [
        {
          "output_type": "stream",
          "name": "stdout",
          "text": [
            "Mounted at /content/gdrive\n"
          ]
        }
      ],
      "source": [
        "# Mount Google Drive to access the dataset (if using Google Colab)\n",
        "from google.colab import drive\n",
        "drive.mount('/content/gdrive')"
      ]
    },
    {
      "cell_type": "code",
      "execution_count": null,
      "metadata": {
        "id": "yCho1PEKLLoQ"
      },
      "outputs": [],
      "source": [
        "# Import necessary libraries\n",
        "import numpy as np\n",
        "import pandas as pd\n",
        "import matplotlib.pyplot as plt\n",
        "import string\n",
        "import os\n",
        "\n",
        "%matplotlib inline"
      ]
    },
    {
      "cell_type": "markdown",
      "metadata": {
        "id": "X_aUcB6ILLoR"
      },
      "source": [
        "## 1. Loading the Dataset"
      ]
    },
    {
      "cell_type": "code",
      "execution_count": null,
      "metadata": {
        "id": "tH6srgFxLLoS"
      },
      "outputs": [],
      "source": [
        "# Define the data path and load the dataset\n",
        "DATA_PATH = '/content/gdrive/My Drive/asl_data'  # Original DATA_PATH\n",
        "\n",
        "train_df = pd.read_csv(os.path.join(DATA_PATH, 'sign_mnist_train.csv'))\n",
        "valid_df = pd.read_csv(os.path.join(DATA_PATH, 'sign_mnist_valid.csv'))"
      ]
    },
    {
      "cell_type": "markdown",
      "metadata": {
        "id": "Mn1-85AxLLoS"
      },
      "source": [
        "### 1.1 Preparing the Data"
      ]
    },
    {
      "cell_type": "markdown",
      "source": [
        "In this section, we load the ASL dataset from CSV files into Pandas DataFrames. The dataset contains pixel values for grayscale images of hand signs and corresponding numeric labels for each sign. We separate the labels from the pixel values, storing the pixel data in `x_train` and `x_val`, and the labels in `y_train` and `y_val`. These values are converted into NumPy arrays for further processing and use in model training."
      ],
      "metadata": {
        "id": "t-Xkq2F6WtQt"
      }
    },
    {
      "cell_type": "code",
      "execution_count": null,
      "metadata": {
        "id": "M1m03I-oLLoT"
      },
      "outputs": [],
      "source": [
        "# Separate labels and features\n",
        "y_train = np.array(train_df['label'])\n",
        "y_val = np.array(valid_df['label'])\n",
        "x_train = train_df.drop('label', axis=1).values.astype(np.float32)\n",
        "x_val = valid_df.drop('label', axis=1).values.astype(np.float32)"
      ]
    },
    {
      "cell_type": "markdown",
      "metadata": {
        "id": "xB5Dt21JLLoT"
      },
      "source": [
        "### 1.2 Splitting Validation and Test Sets"
      ]
    },
    {
      "cell_type": "markdown",
      "source": [
        "In this section, the dataset is normalized by adjusting the pixel values to have a mean of 0 and a standard deviation of 1. This normalization helps the model converge faster during training and improves overall performance. By transforming the pixel values to a common scale, the model is less likely to be biased toward features with higher numerical values. The mean and standard deviation are computed from the training data and applied uniformly to both the training and validation sets."
      ],
      "metadata": {
        "id": "zzFbSNkuW8Xw"
      }
    },
    {
      "cell_type": "code",
      "execution_count": null,
      "metadata": {
        "id": "Lyr_3y--LLoT"
      },
      "outputs": [],
      "source": [
        "def split_val_test(x, y, pct=0.5, shuffle=True):\n",
        "    '''\n",
        "    Splits the data into validation and test sets.\n",
        "    Args:\n",
        "        x (np.ndarray): Feature data.\n",
        "        y (np.ndarray): Labels.\n",
        "        pct (float): Percentage of data to use for validation (rest for test).\n",
        "        shuffle (bool): Whether to shuffle the data before splitting.\n",
        "    Returns:\n",
        "        x_val, y_val, x_test, y_test\n",
        "    '''\n",
        "    num_samples = x.shape[0]\n",
        "    indices = np.arange(num_samples)\n",
        "    if shuffle:\n",
        "        np.random.shuffle(indices)\n",
        "    split_point = int(pct * num_samples)\n",
        "    x_val_split = x[indices[:split_point]]\n",
        "    y_val_split = y[indices[:split_point]]\n",
        "    x_test_split = x[indices[split_point:]]\n",
        "    y_test_split = y[indices[split_point:]]\n",
        "    return x_val_split, y_val_split, x_test_split, y_test_split"
      ]
    },
    {
      "cell_type": "code",
      "execution_count": null,
      "metadata": {
        "colab": {
          "base_uri": "https://localhost:8080/"
        },
        "id": "J3G_iDenLLoU",
        "outputId": "a06f6846-7fd0-44a2-dee9-14fe04e3d4fc"
      },
      "outputs": [
        {
          "output_type": "stream",
          "name": "stdout",
          "text": [
            "Validation set size: 3586\n",
            "Test set size: 3586\n"
          ]
        }
      ],
      "source": [
        "# Split the validation data into validation and test sets\n",
        "x_val, y_val, x_test, y_test = split_val_test(x_val, y_val, pct=0.5, shuffle=True)\n",
        "print(f\"Validation set size: {x_val.shape[0]}\")\n",
        "print(f\"Test set size: {x_test.shape[0]}\")"
      ]
    },
    {
      "cell_type": "markdown",
      "metadata": {
        "id": "WBEjwE0kLLoU"
      },
      "source": [
        "### 1.3 Label Mapping"
      ]
    },
    {
      "cell_type": "markdown",
      "source": [
        "In this section, we define the label mapping for the dataset. Since the ASL dataset represents letters of the alphabet, the labels are mapped to their corresponding alphabetic characters. We create a list of alphabet letters, excluding 'j' and 'z' because those letters require movement and are not represented in the static images of the dataset. This mapping will be useful for interpreting the model's predictions later on, converting numeric model outputs back into the corresponding ASL letters."
      ],
      "metadata": {
        "id": "0jdCsLRkXNwE"
      }
    },
    {
      "cell_type": "code",
      "execution_count": null,
      "metadata": {
        "id": "1PbB6BrnLLoU"
      },
      "outputs": [],
      "source": [
        "# Create a list of alphabet letters excluding 'j' and 'z'\n",
        "alphabet = list(string.ascii_lowercase)\n",
        "alphabet.remove('j')\n",
        "alphabet.remove('z')\n",
        "\n",
        "# Create a mapping from labels to letters\n",
        "label_to_letter = {i: letter for i, letter in enumerate(alphabet)}"
      ]
    },
    {
      "cell_type": "markdown",
      "metadata": {
        "id": "t-1kSyFULLoU"
      },
      "source": [
        "## 2. Data Preprocessing"
      ]
    },
    {
      "cell_type": "markdown",
      "metadata": {
        "id": "AY_kVxGhLLoV"
      },
      "source": [
        "### 2.1 Standardization"
      ]
    },
    {
      "cell_type": "markdown",
      "source": [
        "In this section, we apply standardization to the dataset. Standardization involves transforming the input features (pixel values) to have a mean of 0 and a standard deviation of 1. This process ensures that all features contribute equally to the learning process, helping the model to converge more efficiently. The mean and standard deviation are calculated from the training data, and the same transformation is applied to both the training and validation sets to maintain consistency. This step is crucial for optimizing the performance of the neural network."
      ],
      "metadata": {
        "id": "92IUz3UUXVkR"
      }
    },
    {
      "cell_type": "code",
      "execution_count": null,
      "metadata": {
        "colab": {
          "base_uri": "https://localhost:8080/"
        },
        "id": "zCAOjZOdLLoV",
        "outputId": "ef5fee12-8dca-4104-d98e-5abeb85d0125"
      },
      "outputs": [
        {
          "output_type": "stream",
          "name": "stdout",
          "text": [
            "Training data mean: 0.0000, std: 1.0000\n"
          ]
        }
      ],
      "source": [
        "# Compute mean and standard deviation from training data\n",
        "x_mean = x_train.mean()\n",
        "x_std = x_train.std()\n",
        "\n",
        "# Standardize the data\n",
        "x_train = (x_train - x_mean) / x_std\n",
        "x_val = (x_val - x_mean) / x_std\n",
        "x_test = (x_test - x_mean) / x_std\n",
        "\n",
        "# Verify mean and std\n",
        "print(f\"Training data mean: {x_train.mean():.4f}, std: {x_train.std():.4f}\")"
      ]
    },
    {
      "cell_type": "markdown",
      "metadata": {
        "id": "_NWx5WHtLLoV"
      },
      "source": [
        "### 2.2 Visualizing Samples"
      ]
    },
    {
      "cell_type": "markdown",
      "source": [
        "In this section, we visualize a few random samples from the dataset to better understand the data. By plotting the images of hand signs along with their corresponding labels, we can verify that the dataset is correctly loaded and the labels are accurately mapped. This visual inspection also helps ensure that the data preprocessing steps (such as standardization) haven't distorted the images. These visualizations provide a quick check to confirm the integrity and structure of the dataset before moving forward with model training."
      ],
      "metadata": {
        "id": "uoeonG8fXgq3"
      }
    },
    {
      "cell_type": "code",
      "execution_count": null,
      "metadata": {
        "colab": {
          "base_uri": "https://localhost:8080/",
          "height": 1000
        },
        "id": "plcc209nLLoV",
        "outputId": "ba8c12e1-b098-455e-b536-462728687e93"
      },
      "outputs": [
        {
          "output_type": "display_data",
          "data": {
            "text/plain": [
              "<Figure size 640x480 with 1 Axes>"
            ],
            "image/png": "[encoded data removed]"
          },
          "metadata": {}
        },
        {
          "output_type": "display_data",
          "data": {
            "text/plain": [
              "<Figure size 640x480 with 1 Axes>"
            ],
            "image/png": "[encoded data removed]"
          },
          "metadata": {}
        },
        {
          "output_type": "display_data",
          "data": {
            "text/plain": [
              "<Figure size 640x480 with 1 Axes>"
            ],
            "image/png": "[encoded data removed]"
          },
          "metadata": {}
        },
        {
          "output_type": "display_data",
          "data": {
            "text/plain": [
              "<Figure size 640x480 with 1 Axes>"
            ],
            "image/png": "[encoded data removed]"
          },
          "metadata": {}
        },
        {
          "output_type": "display_data",
          "data": {
            "text/plain": [
              "<Figure size 640x480 with 1 Axes>"
            ],
            "image/png": "[encoded data removed]"
          },
          "metadata": {}
        }
      ],
      "source": [
        "def plot_sample(x, y, index):\n",
        "    '''\n",
        "    Plots a sample image with its label.\n",
        "    Args:\n",
        "        x (np.ndarray): Feature data.\n",
        "        y (np.ndarray): Labels.\n",
        "        index (int): Index of the sample to plot.\n",
        "    '''\n",
        "    image = x[index].reshape(28, 28)\n",
        "    plt.imshow(image, cmap='gray')\n",
        "    plt.title(f\"Label: {label_to_letter[y[index]]}\")\n",
        "    plt.axis('off')\n",
        "    plt.show()\n",
        "\n",
        "# Plot a few samples from the training set\n",
        "for i in range(5):\n",
        "    plot_sample(x_train, y_train, i)"
      ]
    },
    {
      "cell_type": "markdown",
      "metadata": {
        "id": "EoIY91JRLLoW"
      },
      "source": [
        "## 3. Neural Network Implementation"
      ]
    },
    {
      "cell_type": "markdown",
      "metadata": {
        "id": "-dAWbRkcLLoW"
      },
      "source": [
        "### 3.1 Custom Tensor Class with Gradient Tracking"
      ]
    },
    {
      "cell_type": "markdown",
      "source": [
        "In this section, we define a custom tensor class that extends NumPy arrays to include gradient tracking, which is essential for backpropagation during training. This class allows us to store additional information, such as gradients of the loss function with respect to each parameter, which are used to update the model’s weights. By modifying standard NumPy arrays to hold this gradient information, we make it possible to manually implement the forward and backward passes in the neural network."
      ],
      "metadata": {
        "id": "AHOuTTFhXtU6"
      }
    },
    {
      "cell_type": "code",
      "execution_count": null,
      "metadata": {
        "id": "KId0334JLLoW"
      },
      "outputs": [],
      "source": [
        "class Tensor:\n",
        "    def __init__(self, data, requires_grad=False):\n",
        "        self.data = data\n",
        "        self.requires_grad = requires_grad\n",
        "        if requires_grad:\n",
        "            self.grad = np.zeros_like(data)\n",
        "        else:\n",
        "            self.grad = None\n",
        "\n",
        "    def zero_grad(self):\n",
        "        if self.requires_grad:\n",
        "            self.grad = np.zeros_like(self.data)\n",
        "\n",
        "    def __repr__(self):\n",
        "        return f\"Tensor(data={self.data}, grad={self.grad})\""
      ]
    },
    {
      "cell_type": "markdown",
      "metadata": {
        "id": "q1a0ilDXLLoW"
      },
      "source": [
        "### 3.2 Linear Layer Class with Gradient Tracking"
      ]
    },
    {
      "cell_type": "markdown",
      "source": [
        "In this section, we implement a **Linear Layer Class** that performs a fully connected linear transformation with gradient tracking. This class initializes weight (`W`) and bias (`b`) matrices for the layer, applying Kaiming He initialization to ensure stable gradients during training.\n",
        "\n",
        "During the forward pass, the class computes the output as:\n",
        "\n",
        "$$\n",
        "z = W \\cdot X + b\n",
        "$$\n",
        "\n",
        "where `X` is the input, `W` is the weight matrix, and `b` is the bias vector.\n",
        "\n",
        "In the backward pass, the class calculates the gradients of the weights, bias, and input with respect to the loss. This involves storing the gradient information, which is used for updating the weights during backpropagation. Specifically:\n",
        "\n",
        "- The gradient of the input `X` is computed by multiplying the transposed weight matrix with the gradient of the output.\n",
        "- The gradient of the weights `W` is computed by multiplying the gradient of the output with the transposed input.\n",
        "- The gradient of the bias `b` is computed as the sum of the gradients of the output across all input samples.\n",
        "\n",
        "This layer serves as a building block for constructing deeper neural networks."
      ],
      "metadata": {
        "id": "4hCrhpRUX6Cw"
      }
    },
    {
      "cell_type": "code",
      "execution_count": null,
      "metadata": {
        "id": "-_dKWx_eLLoX"
      },
      "outputs": [],
      "source": [
        "class Linear:\n",
        "    def __init__(self, input_dim, output_dim):\n",
        "        '''\n",
        "        Linear layer with weight and bias parameters.\n",
        "        Weights are initialized using He initialization.\n",
        "        '''\n",
        "        self.W = Tensor(\n",
        "            np.random.randn(input_dim, output_dim) * np.sqrt(2. / input_dim),\n",
        "            requires_grad=True\n",
        "        )\n",
        "        self.b = Tensor(\n",
        "            np.zeros((1, output_dim)),\n",
        "            requires_grad=True\n",
        "        )\n",
        "        self.input = None\n",
        "\n",
        "    def forward(self, x):\n",
        "        '''\n",
        "        Forward pass for the linear layer.\n",
        "        x shape: (batch_size, input_dim)\n",
        "        '''\n",
        "        self.input = x\n",
        "        output = x.data @ self.W.data + self.b.data  # Shape: (batch_size, output_dim)\n",
        "        return Tensor(output, requires_grad=x.requires_grad)\n",
        "\n",
        "    def backward(self, grad_output):\n",
        "        '''\n",
        "        Backward pass for the linear layer.\n",
        "        grad_output shape: (batch_size, output_dim)\n",
        "        '''\n",
        "        if self.input.requires_grad:\n",
        "            if self.input.grad is None:\n",
        "                self.input.grad = grad_output @ self.W.data.T\n",
        "            else:\n",
        "                self.input.grad += grad_output @ self.W.data.T\n",
        "        if self.W.requires_grad:\n",
        "            if self.W.grad is None:\n",
        "                self.W.grad = self.input.data.T @ grad_output\n",
        "            else:\n",
        "                self.W.grad += self.input.data.T @ grad_output\n",
        "        if self.b.requires_grad:\n",
        "            if self.b.grad is None:\n",
        "                self.b.grad = np.sum(grad_output, axis=0, keepdims=True)\n",
        "            else:\n",
        "                self.b.grad += np.sum(grad_output, axis=0, keepdims=True)"
      ]
    },
    {
      "cell_type": "markdown",
      "metadata": {
        "id": "rsfScJj-LLoX"
      },
      "source": [
        "### 3.3 ReLU Activation Class with Gradient Tracking"
      ]
    },
    {
      "cell_type": "markdown",
      "source": [
        "In this section, we implement a **ReLU Activation Class** with gradient tracking. The ReLU (Rectified Linear Unit) function is a commonly used activation function in neural networks, defined as:\n",
        "\n",
        "$$\n",
        "a = \\max(0, z)\n",
        "$$\n",
        "\n",
        "In the forward pass, this class computes the activation by setting all negative values in the input `z` to zero, while leaving positive values unchanged. This introduces non-linearity into the model, which allows the neural network to learn more complex patterns.\n",
        "\n",
        "During the backward pass, the class calculates the gradient of the loss with respect to the input `z`. The gradient is passed through only where the input `z` is positive (i.e., the ReLU function is active), and it is set to zero for all negative values of `z` (i.e., where the ReLU is inactive).\n",
        "\n",
        "This class enables the model to update weights efficiently during backpropagation, while maintaining gradient flow through the network.\n"
      ],
      "metadata": {
        "id": "0iBpvETTYdBN"
      }
    },
    {
      "cell_type": "code",
      "execution_count": null,
      "metadata": {
        "id": "WNhk-WR8LLoX"
      },
      "outputs": [],
      "source": [
        "class ReLU:\n",
        "    def __init__(self):\n",
        "        self.input = None\n",
        "\n",
        "    def forward(self, x):\n",
        "        '''\n",
        "        Forward pass for ReLU activation.\n",
        "        '''\n",
        "        self.input = x\n",
        "        output = np.maximum(0, x.data)\n",
        "        return Tensor(output, requires_grad=x.requires_grad)\n",
        "\n",
        "    def backward(self, grad_output):\n",
        "        '''\n",
        "        Backward pass for ReLU activation.\n",
        "        '''\n",
        "        grad_input = grad_output.copy()\n",
        "        grad_input[self.input.data <= 0] = 0\n",
        "        if self.input.requires_grad:\n",
        "            if self.input.grad is None:\n",
        "                self.input.grad = grad_input\n",
        "            else:\n",
        "                self.input.grad += grad_input"
      ]
    },
    {
      "cell_type": "markdown",
      "metadata": {
        "id": "S0iWZewyLLoY"
      },
      "source": [
        "### 3.4 Combined Softmax and Cross-Entropy Loss Function"
      ]
    },
    {
      "cell_type": "markdown",
      "source": [
        "In this section, we implement the **Combined Softmax and Cross-Entropy Loss Function**. This function is used for both calculating the network's predictions and computing the loss during training. It is a common choice for classification tasks because it combines the softmax function and cross-entropy loss into a single efficient computation.\n",
        "\n",
        "- **Softmax**: The softmax function converts the raw output scores (logits) from the network into probabilities, ensuring that the output values sum to 1. It is defined as:\n",
        "\n",
        "  $$\n",
        "  \\hat{y}_k = \\frac{e^{z_k}}{\\sum_j{e^{z_j}}}\n",
        "  $$\n",
        "\n",
        "  where `z_k` is the raw output for class `k` and the denominator is the sum of exponentiated scores for all classes `j`.\n",
        "\n",
        "- **Cross-Entropy Loss**: Once the probabilities are calculated, the cross-entropy loss measures the difference between the predicted probability distribution and the true distribution (represented by the one-hot encoded labels). The loss for a single sample is defined as:\n",
        "\n",
        "  $$\n",
        "  \\mathcal{L}(\\hat{y}, y) = -\\sum_{k=1}^C y_k \\log(\\hat{y}_k)\n",
        "  $$\n",
        "\n",
        "  where `y_k` is the true label (1 if it is the correct class, 0 otherwise), and `\\hat{y}_k` is the predicted probability for class `k`.\n",
        "\n",
        "During backpropagation, the combined function efficiently computes the gradients with respect to the input logits, which are used to update the model's weights. This function simplifies the process by eliminating the need to compute the softmax and cross-entropy separately, making the forward and backward passes more efficient.\n"
      ],
      "metadata": {
        "id": "-IX022_yYvMe"
      }
    },
    {
      "cell_type": "code",
      "execution_count": null,
      "metadata": {
        "id": "zUB_7jz9LLoY"
      },
      "outputs": [],
      "source": [
        "def softmax_cross_entropy_with_logits(logits, y_true):\n",
        "    '''\n",
        "    Computes softmax activation and cross-entropy loss.\n",
        "    Args:\n",
        "        logits (Tensor): Logits from the model output.\n",
        "        y_true (np.ndarray): True labels (batch_size,).\n",
        "    Returns:\n",
        "        loss (float): Cross-entropy loss.\n",
        "        probs (np.ndarray): Softmax probabilities.\n",
        "    '''\n",
        "    batch_size = logits.data.shape[0]\n",
        "    logits_stable = logits.data - np.max(logits.data, axis=1, keepdims=True)\n",
        "    exp_logits = np.exp(logits_stable)\n",
        "    probs = exp_logits / np.sum(exp_logits, axis=1, keepdims=True)\n",
        "\n",
        "    # Compute loss\n",
        "    correct_logprobs = -np.log(probs[range(batch_size), y_true] + 1e-8)\n",
        "    loss = np.sum(correct_logprobs) / batch_size\n",
        "\n",
        "    # Compute gradient\n",
        "    grad_logits = probs.copy()\n",
        "    grad_logits[range(batch_size), y_true] -= 1\n",
        "    grad_logits /= batch_size\n",
        "\n",
        "    # Set gradient w.r.t logits\n",
        "    if logits.requires_grad:\n",
        "        logits.grad = grad_logits\n",
        "\n",
        "    return loss, probs"
      ]
    },
    {
      "cell_type": "markdown",
      "metadata": {
        "id": "AmWGOQeMLLoZ"
      },
      "source": [
        "### 3.5 Sequential Model Class"
      ]
    },
    {
      "cell_type": "markdown",
      "source": [
        "In this section, we implement the **Sequential Model Class**, which acts as a container for stacking multiple layers (e.g., linear layers and activation functions) in a sequential manner. This class provides a simple way to define and manage a feedforward neural network.\n",
        "\n",
        "### Key components of the class:\n",
        "\n",
        "- **Initialization (`__init__`)**: The model is initialized with a list of layers. Each layer is an instance of a class (e.g., Linear, ReLU). These layers are stored in the `layers` list for easy access during the forward and backward passes.\n",
        "  \n",
        "- **Forward Pass (`__call__`)**: During the forward pass, the input data is passed through each layer in the sequence. The output from one layer becomes the input for the next, creating a chain of transformations. This method returns the final output after all layers have been applied.\n",
        "\n",
        "- **Backward Pass (`backward`)**: The `backward` method computes the gradients of all the layers by calling the backward method of each layer in reverse order. This allows the model to propagate the error backward through the network, calculating the gradients needed for weight updates.\n",
        "\n",
        "- **Update (`update`)**: After the backward pass, the `update` method adjusts the weights and biases of each layer using the computed gradients. The weights are updated using gradient descent with a specified learning rate.\n",
        "\n",
        "- **Prediction (`predict`)**: This method makes predictions by performing a forward pass through the model and selecting the class with the highest probability. It is typically used during evaluation and testing to assess the model’s accuracy.\n",
        "\n",
        "The Sequential Model Class simplifies the process of building and training a neural network by handling both the forward and backward passes and the weight updates in an organized manner. It allows for flexible architecture definitions by stacking different combinations of layers.\n"
      ],
      "metadata": {
        "id": "whJAojwZZRfV"
      }
    },
    {
      "cell_type": "code",
      "execution_count": null,
      "metadata": {
        "id": "XBd3KN0_LLoZ"
      },
      "outputs": [],
      "source": [
        "class Sequential:\n",
        "    def __init__(self, layers):\n",
        "        self.layers = layers\n",
        "\n",
        "    def forward(self, x):\n",
        "        for layer in self.layers:\n",
        "            x = layer.forward(x)\n",
        "        return x\n",
        "\n",
        "    def backward(self, grad_output):\n",
        "        for layer in reversed(self.layers):\n",
        "            layer.backward(grad_output)\n",
        "            if hasattr(layer, 'input'):\n",
        "                grad_output = layer.input.grad\n",
        "\n",
        "    def zero_grad(self):\n",
        "        for layer in self.layers:\n",
        "            if hasattr(layer, 'W'):\n",
        "                if layer.W.requires_grad:\n",
        "                    layer.W.zero_grad()\n",
        "                if layer.b.requires_grad:\n",
        "                    layer.b.zero_grad()\n",
        "            if hasattr(layer, 'input') and layer.input is not None:\n",
        "                if layer.input.requires_grad:\n",
        "                    layer.input.zero_grad()\n",
        "\n",
        "    def update_params(self, learning_rate):\n",
        "        for layer in self.layers:\n",
        "            if hasattr(layer, 'W'):\n",
        "                if layer.W.requires_grad:\n",
        "                    layer.W.data -= learning_rate * layer.W.grad\n",
        "                if layer.b.requires_grad:\n",
        "                    layer.b.data -= learning_rate * layer.b.grad\n",
        "\n",
        "    def predict(self, x):\n",
        "        logits = self.forward(Tensor(x, requires_grad=False))\n",
        "        probs = np.exp(logits.data - np.max(logits.data, axis=1, keepdims=True))\n",
        "        probs /= np.sum(probs, axis=1, keepdims=True)\n",
        "        predictions = np.argmax(probs, axis=1)\n",
        "        return predictions"
      ]
    },
    {
      "cell_type": "markdown",
      "metadata": {
        "id": "z2Eym0bULLoZ"
      },
      "source": [
        "## 4. Training the Model"
      ]
    },
    {
      "cell_type": "markdown",
      "metadata": {
        "id": "041NWxROLLoa"
      },
      "source": [
        "### 4.1 Mini-Batch Generator"
      ]
    },
    {
      "cell_type": "markdown",
      "source": [
        "In this section, we implement a **Mini-Batch Generator**, which is used to split the training data into smaller subsets called mini-batches. Mini-batch training is commonly used in neural networks to efficiently handle large datasets, allowing the model to update its weights more frequently and helping it converge faster.\n",
        "\n",
        "### Key components:\n",
        "\n",
        "- **Shuffling**: Before creating mini-batches, the training data is shuffled. Shuffling ensures that each mini-batch contains a diverse set of samples, which prevents the model from learning based on the order of the data.\n",
        "  \n",
        "- **Batch Creation**: The data is then split into mini-batches of a specified size. Each mini-batch contains a subset of the input data (`x`) and corresponding labels (`y`). The mini-batches are returned one at a time for training.\n",
        "\n",
        "### Why Mini-Batches?\n",
        "\n",
        "- **Improves Efficiency**: Instead of processing the entire dataset at once (as in batch gradient descent), mini-batches allow for quicker updates of the model’s parameters, reducing memory usage.\n",
        "  \n",
        "- **Smoother Training**: Mini-batches provide a balance between stochastic gradient descent (which updates the model after each sample) and full-batch gradient descent. This allows the model to generalize better by learning from different subsets of the data.\n",
        "\n",
        "- **Parallelism**: Mini-batch processing is well-suited for modern hardware (like GPUs), enabling parallel computation for faster training.\n",
        "\n",
        "This generator helps in dividing the dataset into manageable chunks, making the training process more efficient and allowing the model to learn and converge more quickly.\n"
      ],
      "metadata": {
        "id": "Q0hcitZ-Zdwr"
      }
    },
    {
      "cell_type": "code",
      "execution_count": null,
      "metadata": {
        "id": "2c3s3lHJLLoa"
      },
      "outputs": [],
      "source": [
        "def create_mini_batches(x, y, batch_size, shuffle=True):\n",
        "    '''\n",
        "    Creates mini-batches from the data.\n",
        "    Args:\n",
        "        x (np.ndarray): Feature data.\n",
        "        y (np.ndarray): Labels.\n",
        "        batch_size (int): Size of each mini-batch.\n",
        "        shuffle (bool): Whether to shuffle the data before splitting.\n",
        "    Returns:\n",
        "        mini_batches (list): List of tuples (x_batch, y_batch).\n",
        "    '''\n",
        "    m = x.shape[0]\n",
        "    indices = np.arange(m)\n",
        "    if shuffle:\n",
        "        np.random.shuffle(indices)\n",
        "        x = x[indices]\n",
        "        y = y[indices]\n",
        "    mini_batches = []\n",
        "    for start_idx in range(0, m, batch_size):\n",
        "        end_idx = min(start_idx + batch_size, m)\n",
        "        x_batch = x[start_idx:end_idx]\n",
        "        y_batch = y[start_idx:end_idx]\n",
        "        mini_batches.append((x_batch, y_batch))\n",
        "    return mini_batches"
      ]
    },
    {
      "cell_type": "markdown",
      "metadata": {
        "id": "bXipGLRDLLoa"
      },
      "source": [
        "### 4.2 Model Initialization"
      ]
    },
    {
      "cell_type": "markdown",
      "source": [
        "In this section, we initialize the **Sequential Model** with a combination of **Linear Layers** and **ReLU Activation Functions**. The architecture is designed specifically for the American Sign Language (ASL) dataset, which consists of grayscale images representing hand signs.\n",
        "\n",
        "### Model Architecture:\n",
        "\n",
        "- **Input Layer**: The input to the model consists of flattened 28x28 pixel grayscale images, resulting in an input size of 784 features.\n",
        "  \n",
        "- **Hidden Layers**: The model contains two hidden layers, each consisting of 128 neurons. These fully connected layers allow the model to capture complex patterns in the data. We use **ReLU** as the activation function after each hidden layer to introduce non-linearity and allow the model to learn from more complex feature interactions.\n",
        "\n",
        "- **Output Layer**: The output layer has 24 neurons, corresponding to the 24 static ASL letters (excluding 'j' and 'z'). The output layer is followed by the **Softmax Activation** to convert the raw output logits into probabilities for each class.\n",
        "\n",
        "### Justification for this Architecture:\n",
        "\n",
        "- **Image Data Representation**: Since the dataset consists of images, a fully connected network with multiple layers allows the model to capture a rich set of features from the pixel values. While convolutional neural networks (CNNs) are often used for image data, this simpler fully connected architecture is chosen as a foundational model for learning.\n",
        "\n",
        "- **ASL Dataset Characteristics**: The ASL dataset contains clear, distinct representations of hand signs. A model with a moderate number of hidden neurons and layers is sufficient to capture the key variations in hand gestures without the need for more complex architectures.\n",
        "\n",
        "- **ReLU Activation**: The use of **ReLU** is appropriate here because it helps in reducing the vanishing gradient problem, which can occur when using other activation functions like Sigmoid or Tanh. This ensures efficient training, especially when using gradient-based optimization techniques.\n",
        "\n",
        "- **Softmax for Classification**: The **Softmax** function at the output layer is a natural choice for multi-class classification problems, as it converts the raw outputs into class probabilities, allowing us to interpret the model’s predictions for each letter of the ASL alphabet.\n",
        "\n",
        "This architecture is well-suited to the ASL dataset due to its simplicity and ability to capture patterns in the static images of hand signs, providing a good balance between model complexity and performance for this classification task.\n"
      ],
      "metadata": {
        "id": "3bJTMBT4Z2ZL"
      }
    },
    {
      "cell_type": "code",
      "execution_count": null,
      "metadata": {
        "id": "DMi72ERRLLob"
      },
      "outputs": [],
      "source": [
        "# Define model architecture\n",
        "input_dim = 784  # 28x28 pixels\n",
        "hidden_dim = 256\n",
        "output_dim = len(alphabet)  # 24 classes\n",
        "\n",
        "# Create the model\n",
        "model = Sequential([\n",
        "    Linear(input_dim, hidden_dim),\n",
        "    ReLU(),\n",
        "    Linear(hidden_dim, hidden_dim),\n",
        "    ReLU(),\n",
        "    Linear(hidden_dim, output_dim)\n",
        "])\n",
        "\n",
        "# Set hyperparameters\n",
        "learning_rate = 0.001\n",
        "num_epochs = 150\n",
        "batch_size = 512\n",
        "\n",
        "# Lists to store loss and accuracy\n",
        "train_losses = []\n",
        "val_losses = []\n",
        "train_accuracies = []\n",
        "val_accuracies = []"
      ]
    },
    {
      "cell_type": "markdown",
      "metadata": {
        "id": "XR6Y8aLjLLob"
      },
      "source": [
        "### 4.3 Training Loop"
      ]
    },
    {
      "cell_type": "markdown",
      "source": [
        "In this section, we implement the **Training Loop**, which handles the iterative process of training the model on the ASL dataset. The training loop is responsible for processing the data in mini-batches, performing forward and backward passes, and updating the model's weights based on the computed gradients.\n",
        "\n",
        "### Key Components of the Training Loop:\n",
        "\n",
        "- **Mini-Batch Training**: In each epoch, the training data is divided into mini-batches. For each mini-batch, the model performs a forward pass, computes the loss, and then performs a backward pass to calculate the gradients.\n",
        "\n",
        "- **Forward Pass**: During the forward pass, the input is passed through the model layer by layer. The output of the model is compared to the true labels using the combined **Softmax and Cross-Entropy Loss Function**, which calculates how far the predicted outputs are from the actual labels.\n",
        "\n",
        "- **Backward Pass**: In the backward pass, the gradients of the loss with respect to the model’s parameters are computed using backpropagation. These gradients are then used to update the weights and biases of the model through gradient descent.\n",
        "\n",
        "- **Weight Update**: After the backward pass, the model’s weights and biases are updated using the computed gradients. The learning rate controls the size of the updates, ensuring that the model’s parameters are adjusted in small, incremental steps.\n",
        "\n",
        "- **Tracking Loss and Accuracy**: At the end of each epoch, the model evaluates its performance on the validation set by computing the validation loss and accuracy. This helps monitor whether the model is improving and not overfitting.\n",
        "\n",
        "### Justification for the Approach:\n",
        "\n",
        "- **Mini-Batch Gradient Descent**: By processing the data in mini-batches, the model can update its weights more frequently than in full-batch gradient descent. This speeds up the training process while reducing memory requirements. It also provides a more stable convergence path than stochastic gradient descent.\n",
        "\n",
        "- **Validation Set Evaluation**: Evaluating the model on a validation set after each epoch helps in tracking overfitting and underfitting. If the validation accuracy improves, it indicates that the model is learning well from the training data and generalizing to unseen data.\n",
        "\n",
        "- **Learning Rate**: A small learning rate is used to ensure that the model’s parameters are updated gradually, avoiding large jumps that could destabilize the training process. It helps in achieving better convergence.\n",
        "\n",
        "This training loop ensures that the model is updated iteratively while keeping track of its performance on both the training and validation data. This structure allows the model to progressively learn the best parameters for the task of ASL hand sign recognition.\n"
      ],
      "metadata": {
        "id": "8ExIbrbCaZxN"
      }
    },
    {
      "cell_type": "code",
      "execution_count": null,
      "metadata": {
        "colab": {
          "base_uri": "https://localhost:8080/"
        },
        "id": "7JYHys9hLLoc",
        "outputId": "2b88aae1-760a-4a3f-ab1f-623895321989"
      },
      "outputs": [
        {
          "output_type": "stream",
          "name": "stdout",
          "text": [
            "Epoch 1/150 - Loss: 3.6550 - Acc: 0.0482 - Val Loss: 3.5910 - Val Acc: 0.0477\n",
            "Epoch 2/150 - Loss: 3.3807 - Acc: 0.0683 - Val Loss: 3.3967 - Val Acc: 0.0700\n",
            "Epoch 3/150 - Loss: 3.1968 - Acc: 0.0978 - Val Loss: 3.2496 - Val Acc: 0.0851\n",
            "Epoch 4/150 - Loss: 3.0511 - Acc: 0.1268 - Val Loss: 3.1269 - Val Acc: 0.1068\n",
            "Epoch 5/150 - Loss: 2.9265 - Acc: 0.1573 - Val Loss: 3.0206 - Val Acc: 0.1286\n",
            "Epoch 6/150 - Loss: 2.8162 - Acc: 0.1870 - Val Loss: 2.9265 - Val Acc: 0.1531\n",
            "Epoch 7/150 - Loss: 2.7164 - Acc: 0.2174 - Val Loss: 2.8421 - Val Acc: 0.1801\n",
            "Epoch 8/150 - Loss: 2.6251 - Acc: 0.2455 - Val Loss: 2.7657 - Val Acc: 0.2041\n",
            "Epoch 9/150 - Loss: 2.5406 - Acc: 0.2709 - Val Loss: 2.6949 - Val Acc: 0.2256\n",
            "Epoch 10/150 - Loss: 2.4618 - Acc: 0.2964 - Val Loss: 2.6293 - Val Acc: 0.2538\n",
            "Epoch 11/150 - Loss: 2.3882 - Acc: 0.3190 - Val Loss: 2.5686 - Val Acc: 0.2724\n",
            "Epoch 12/150 - Loss: 2.3191 - Acc: 0.3418 - Val Loss: 2.5116 - Val Acc: 0.2850\n",
            "Epoch 13/150 - Loss: 2.2539 - Acc: 0.3620 - Val Loss: 2.4578 - Val Acc: 0.2970\n",
            "Epoch 14/150 - Loss: 2.1922 - Acc: 0.3820 - Val Loss: 2.4072 - Val Acc: 0.3115\n",
            "Epoch 15/150 - Loss: 2.1336 - Acc: 0.4006 - Val Loss: 2.3588 - Val Acc: 0.3260\n",
            "Epoch 16/150 - Loss: 2.0779 - Acc: 0.4178 - Val Loss: 2.3138 - Val Acc: 0.3391\n",
            "Epoch 17/150 - Loss: 2.0248 - Acc: 0.4359 - Val Loss: 2.2701 - Val Acc: 0.3555\n",
            "Epoch 18/150 - Loss: 1.9741 - Acc: 0.4509 - Val Loss: 2.2286 - Val Acc: 0.3681\n",
            "Epoch 19/150 - Loss: 1.9255 - Acc: 0.4681 - Val Loss: 2.1891 - Val Acc: 0.3779\n",
            "Epoch 20/150 - Loss: 1.8790 - Acc: 0.4848 - Val Loss: 2.1511 - Val Acc: 0.3865\n",
            "Epoch 21/150 - Loss: 1.8345 - Acc: 0.5014 - Val Loss: 2.1156 - Val Acc: 0.3940\n",
            "Epoch 22/150 - Loss: 1.7918 - Acc: 0.5156 - Val Loss: 2.0806 - Val Acc: 0.4010\n",
            "Epoch 23/150 - Loss: 1.7509 - Acc: 0.5290 - Val Loss: 2.0476 - Val Acc: 0.4102\n",
            "Epoch 24/150 - Loss: 1.7115 - Acc: 0.5399 - Val Loss: 2.0163 - Val Acc: 0.4191\n",
            "Epoch 25/150 - Loss: 1.6737 - Acc: 0.5525 - Val Loss: 1.9854 - Val Acc: 0.4267\n",
            "Epoch 26/150 - Loss: 1.6374 - Acc: 0.5635 - Val Loss: 1.9564 - Val Acc: 0.4345\n",
            "Epoch 27/150 - Loss: 1.6024 - Acc: 0.5758 - Val Loss: 1.9285 - Val Acc: 0.4398\n",
            "Epoch 28/150 - Loss: 1.5688 - Acc: 0.5872 - Val Loss: 1.9019 - Val Acc: 0.4451\n",
            "Epoch 29/150 - Loss: 1.5363 - Acc: 0.5971 - Val Loss: 1.8761 - Val Acc: 0.4518\n",
            "Epoch 30/150 - Loss: 1.5050 - Acc: 0.6061 - Val Loss: 1.8509 - Val Acc: 0.4601\n",
            "Epoch 31/150 - Loss: 1.4749 - Acc: 0.6152 - Val Loss: 1.8267 - Val Acc: 0.4654\n",
            "Epoch 32/150 - Loss: 1.4458 - Acc: 0.6239 - Val Loss: 1.8039 - Val Acc: 0.4707\n",
            "Epoch 33/150 - Loss: 1.4177 - Acc: 0.6314 - Val Loss: 1.7812 - Val Acc: 0.4755\n",
            "Epoch 34/150 - Loss: 1.3905 - Acc: 0.6400 - Val Loss: 1.7601 - Val Acc: 0.4808\n",
            "Epoch 35/150 - Loss: 1.3642 - Acc: 0.6479 - Val Loss: 1.7395 - Val Acc: 0.4861\n",
            "Epoch 36/150 - Loss: 1.3388 - Acc: 0.6565 - Val Loss: 1.7190 - Val Acc: 0.4902\n",
            "Epoch 37/150 - Loss: 1.3142 - Acc: 0.6648 - Val Loss: 1.6994 - Val Acc: 0.4939\n",
            "Epoch 38/150 - Loss: 1.2904 - Acc: 0.6723 - Val Loss: 1.6807 - Val Acc: 0.4978\n",
            "Epoch 39/150 - Loss: 1.2673 - Acc: 0.6794 - Val Loss: 1.6623 - Val Acc: 0.5000\n",
            "Epoch 40/150 - Loss: 1.2450 - Acc: 0.6862 - Val Loss: 1.6447 - Val Acc: 0.5025\n",
            "Epoch 41/150 - Loss: 1.2233 - Acc: 0.6933 - Val Loss: 1.6277 - Val Acc: 0.5050\n",
            "Epoch 42/150 - Loss: 1.2022 - Acc: 0.7007 - Val Loss: 1.6114 - Val Acc: 0.5070\n",
            "Epoch 43/150 - Loss: 1.1818 - Acc: 0.7081 - Val Loss: 1.5953 - Val Acc: 0.5123\n",
            "Epoch 44/150 - Loss: 1.1620 - Acc: 0.7146 - Val Loss: 1.5799 - Val Acc: 0.5159\n",
            "Epoch 45/150 - Loss: 1.1427 - Acc: 0.7207 - Val Loss: 1.5646 - Val Acc: 0.5218\n",
            "Epoch 46/150 - Loss: 1.1239 - Acc: 0.7262 - Val Loss: 1.5499 - Val Acc: 0.5265\n",
            "Epoch 47/150 - Loss: 1.1056 - Acc: 0.7329 - Val Loss: 1.5357 - Val Acc: 0.5321\n",
            "Epoch 48/150 - Loss: 1.0878 - Acc: 0.7387 - Val Loss: 1.5217 - Val Acc: 0.5337\n",
            "Epoch 49/150 - Loss: 1.0705 - Acc: 0.7453 - Val Loss: 1.5081 - Val Acc: 0.5368\n",
            "Epoch 50/150 - Loss: 1.0536 - Acc: 0.7512 - Val Loss: 1.4948 - Val Acc: 0.5399\n",
            "Epoch 51/150 - Loss: 1.0372 - Acc: 0.7568 - Val Loss: 1.4823 - Val Acc: 0.5421\n",
            "Epoch 52/150 - Loss: 1.0211 - Acc: 0.7622 - Val Loss: 1.4700 - Val Acc: 0.5457\n",
            "Epoch 53/150 - Loss: 1.0054 - Acc: 0.7679 - Val Loss: 1.4577 - Val Acc: 0.5496\n",
            "Epoch 54/150 - Loss: 0.9901 - Acc: 0.7722 - Val Loss: 1.4455 - Val Acc: 0.5516\n",
            "Epoch 55/150 - Loss: 0.9752 - Acc: 0.7772 - Val Loss: 1.4335 - Val Acc: 0.5558\n",
            "Epoch 56/150 - Loss: 0.9606 - Acc: 0.7816 - Val Loss: 1.4218 - Val Acc: 0.5586\n",
            "Epoch 57/150 - Loss: 0.9465 - Acc: 0.7863 - Val Loss: 1.4111 - Val Acc: 0.5600\n",
            "Epoch 58/150 - Loss: 0.9326 - Acc: 0.7903 - Val Loss: 1.4003 - Val Acc: 0.5619\n",
            "Epoch 59/150 - Loss: 0.9190 - Acc: 0.7943 - Val Loss: 1.3897 - Val Acc: 0.5658\n",
            "Epoch 60/150 - Loss: 0.9058 - Acc: 0.7990 - Val Loss: 1.3792 - Val Acc: 0.5706\n",
            "Epoch 61/150 - Loss: 0.8928 - Acc: 0.8023 - Val Loss: 1.3692 - Val Acc: 0.5742\n",
            "Epoch 62/150 - Loss: 0.8802 - Acc: 0.8069 - Val Loss: 1.3596 - Val Acc: 0.5761\n",
            "Epoch 63/150 - Loss: 0.8678 - Acc: 0.8105 - Val Loss: 1.3498 - Val Acc: 0.5786\n",
            "Epoch 64/150 - Loss: 0.8557 - Acc: 0.8145 - Val Loss: 1.3405 - Val Acc: 0.5811\n",
            "Epoch 65/150 - Loss: 0.8439 - Acc: 0.8186 - Val Loss: 1.3314 - Val Acc: 0.5845\n",
            "Epoch 66/150 - Loss: 0.8322 - Acc: 0.8222 - Val Loss: 1.3221 - Val Acc: 0.5876\n",
            "Epoch 67/150 - Loss: 0.8209 - Acc: 0.8262 - Val Loss: 1.3135 - Val Acc: 0.5904\n",
            "Epoch 68/150 - Loss: 0.8098 - Acc: 0.8294 - Val Loss: 1.3048 - Val Acc: 0.5929\n",
            "Epoch 69/150 - Loss: 0.7989 - Acc: 0.8325 - Val Loss: 1.2964 - Val Acc: 0.5959\n",
            "Epoch 70/150 - Loss: 0.7882 - Acc: 0.8366 - Val Loss: 1.2882 - Val Acc: 0.5998\n",
            "Epoch 71/150 - Loss: 0.7778 - Acc: 0.8399 - Val Loss: 1.2801 - Val Acc: 0.6062\n",
            "Epoch 72/150 - Loss: 0.7675 - Acc: 0.8425 - Val Loss: 1.2724 - Val Acc: 0.6118\n",
            "Epoch 73/150 - Loss: 0.7575 - Acc: 0.8454 - Val Loss: 1.2644 - Val Acc: 0.6182\n",
            "Epoch 74/150 - Loss: 0.7477 - Acc: 0.8486 - Val Loss: 1.2571 - Val Acc: 0.6230\n",
            "Epoch 75/150 - Loss: 0.7380 - Acc: 0.8511 - Val Loss: 1.2497 - Val Acc: 0.6252\n",
            "Epoch 76/150 - Loss: 0.7286 - Acc: 0.8542 - Val Loss: 1.2423 - Val Acc: 0.6280\n",
            "Epoch 77/150 - Loss: 0.7193 - Acc: 0.8559 - Val Loss: 1.2351 - Val Acc: 0.6319\n",
            "Epoch 78/150 - Loss: 0.7102 - Acc: 0.8585 - Val Loss: 1.2281 - Val Acc: 0.6350\n",
            "Epoch 79/150 - Loss: 0.7013 - Acc: 0.8613 - Val Loss: 1.2214 - Val Acc: 0.6369\n",
            "Epoch 80/150 - Loss: 0.6926 - Acc: 0.8626 - Val Loss: 1.2146 - Val Acc: 0.6394\n",
            "Epoch 81/150 - Loss: 0.6840 - Acc: 0.8654 - Val Loss: 1.2083 - Val Acc: 0.6411\n",
            "Epoch 82/150 - Loss: 0.6756 - Acc: 0.8673 - Val Loss: 1.2018 - Val Acc: 0.6439\n",
            "Epoch 83/150 - Loss: 0.6673 - Acc: 0.8702 - Val Loss: 1.1953 - Val Acc: 0.6467\n",
            "Epoch 84/150 - Loss: 0.6592 - Acc: 0.8725 - Val Loss: 1.1891 - Val Acc: 0.6481\n",
            "Epoch 85/150 - Loss: 0.6512 - Acc: 0.8743 - Val Loss: 1.1828 - Val Acc: 0.6492\n",
            "Epoch 86/150 - Loss: 0.6434 - Acc: 0.8764 - Val Loss: 1.1770 - Val Acc: 0.6503\n",
            "Epoch 87/150 - Loss: 0.6357 - Acc: 0.8793 - Val Loss: 1.1716 - Val Acc: 0.6509\n",
            "Epoch 88/150 - Loss: 0.6282 - Acc: 0.8809 - Val Loss: 1.1660 - Val Acc: 0.6517\n",
            "Epoch 89/150 - Loss: 0.6208 - Acc: 0.8826 - Val Loss: 1.1604 - Val Acc: 0.6528\n",
            "Epoch 90/150 - Loss: 0.6135 - Acc: 0.8846 - Val Loss: 1.1548 - Val Acc: 0.6545\n",
            "Epoch 91/150 - Loss: 0.6063 - Acc: 0.8867 - Val Loss: 1.1495 - Val Acc: 0.6562\n",
            "Epoch 92/150 - Loss: 0.5993 - Acc: 0.8886 - Val Loss: 1.1441 - Val Acc: 0.6581\n",
            "Epoch 93/150 - Loss: 0.5924 - Acc: 0.8908 - Val Loss: 1.1392 - Val Acc: 0.6581\n",
            "Epoch 94/150 - Loss: 0.5856 - Acc: 0.8927 - Val Loss: 1.1343 - Val Acc: 0.6603\n",
            "Epoch 95/150 - Loss: 0.5789 - Acc: 0.8951 - Val Loss: 1.1293 - Val Acc: 0.6615\n",
            "Epoch 96/150 - Loss: 0.5723 - Acc: 0.8967 - Val Loss: 1.1244 - Val Acc: 0.6631\n",
            "Epoch 97/150 - Loss: 0.5658 - Acc: 0.8988 - Val Loss: 1.1196 - Val Acc: 0.6640\n",
            "Epoch 98/150 - Loss: 0.5595 - Acc: 0.9009 - Val Loss: 1.1150 - Val Acc: 0.6645\n",
            "Epoch 99/150 - Loss: 0.5532 - Acc: 0.9029 - Val Loss: 1.1100 - Val Acc: 0.6656\n",
            "Epoch 100/150 - Loss: 0.5471 - Acc: 0.9047 - Val Loss: 1.1057 - Val Acc: 0.6670\n",
            "Epoch 101/150 - Loss: 0.5410 - Acc: 0.9063 - Val Loss: 1.1013 - Val Acc: 0.6690\n",
            "Epoch 102/150 - Loss: 0.5350 - Acc: 0.9082 - Val Loss: 1.0969 - Val Acc: 0.6698\n",
            "Epoch 103/150 - Loss: 0.5291 - Acc: 0.9097 - Val Loss: 1.0924 - Val Acc: 0.6723\n",
            "Epoch 104/150 - Loss: 0.5233 - Acc: 0.9113 - Val Loss: 1.0884 - Val Acc: 0.6729\n",
            "Epoch 105/150 - Loss: 0.5176 - Acc: 0.9123 - Val Loss: 1.0846 - Val Acc: 0.6743\n",
            "Epoch 106/150 - Loss: 0.5120 - Acc: 0.9141 - Val Loss: 1.0807 - Val Acc: 0.6743\n",
            "Epoch 107/150 - Loss: 0.5065 - Acc: 0.9158 - Val Loss: 1.0766 - Val Acc: 0.6754\n",
            "Epoch 108/150 - Loss: 0.5010 - Acc: 0.9172 - Val Loss: 1.0729 - Val Acc: 0.6776\n",
            "Epoch 109/150 - Loss: 0.4956 - Acc: 0.9189 - Val Loss: 1.0691 - Val Acc: 0.6790\n",
            "Epoch 110/150 - Loss: 0.4903 - Acc: 0.9207 - Val Loss: 1.0652 - Val Acc: 0.6804\n",
            "Epoch 111/150 - Loss: 0.4851 - Acc: 0.9226 - Val Loss: 1.0612 - Val Acc: 0.6818\n",
            "Epoch 112/150 - Loss: 0.4800 - Acc: 0.9238 - Val Loss: 1.0578 - Val Acc: 0.6821\n",
            "Epoch 113/150 - Loss: 0.4749 - Acc: 0.9251 - Val Loss: 1.0540 - Val Acc: 0.6829\n",
            "Epoch 114/150 - Loss: 0.4699 - Acc: 0.9265 - Val Loss: 1.0507 - Val Acc: 0.6838\n",
            "Epoch 115/150 - Loss: 0.4650 - Acc: 0.9278 - Val Loss: 1.0472 - Val Acc: 0.6852\n",
            "Epoch 116/150 - Loss: 0.4601 - Acc: 0.9288 - Val Loss: 1.0443 - Val Acc: 0.6852\n",
            "Epoch 117/150 - Loss: 0.4553 - Acc: 0.9299 - Val Loss: 1.0408 - Val Acc: 0.6871\n",
            "Epoch 118/150 - Loss: 0.4506 - Acc: 0.9308 - Val Loss: 1.0375 - Val Acc: 0.6885\n",
            "Epoch 119/150 - Loss: 0.4460 - Acc: 0.9320 - Val Loss: 1.0346 - Val Acc: 0.6893\n",
            "Epoch 120/150 - Loss: 0.4414 - Acc: 0.9333 - Val Loss: 1.0313 - Val Acc: 0.6899\n",
            "Epoch 121/150 - Loss: 0.4369 - Acc: 0.9342 - Val Loss: 1.0280 - Val Acc: 0.6916\n",
            "Epoch 122/150 - Loss: 0.4324 - Acc: 0.9355 - Val Loss: 1.0248 - Val Acc: 0.6941\n",
            "Epoch 123/150 - Loss: 0.4280 - Acc: 0.9365 - Val Loss: 1.0218 - Val Acc: 0.6946\n",
            "Epoch 124/150 - Loss: 0.4237 - Acc: 0.9380 - Val Loss: 1.0190 - Val Acc: 0.6952\n",
            "Epoch 125/150 - Loss: 0.4194 - Acc: 0.9391 - Val Loss: 1.0167 - Val Acc: 0.6966\n",
            "Epoch 126/150 - Loss: 0.4152 - Acc: 0.9400 - Val Loss: 1.0132 - Val Acc: 0.6972\n",
            "Epoch 127/150 - Loss: 0.4110 - Acc: 0.9412 - Val Loss: 1.0106 - Val Acc: 0.6977\n",
            "Epoch 128/150 - Loss: 0.4069 - Acc: 0.9427 - Val Loss: 1.0078 - Val Acc: 0.6994\n",
            "Epoch 129/150 - Loss: 0.4028 - Acc: 0.9434 - Val Loss: 1.0049 - Val Acc: 0.6999\n",
            "Epoch 130/150 - Loss: 0.3988 - Acc: 0.9449 - Val Loss: 1.0023 - Val Acc: 0.7008\n",
            "Epoch 131/150 - Loss: 0.3949 - Acc: 0.9455 - Val Loss: 0.9995 - Val Acc: 0.7027\n",
            "Epoch 132/150 - Loss: 0.3910 - Acc: 0.9470 - Val Loss: 0.9973 - Val Acc: 0.7033\n",
            "Epoch 133/150 - Loss: 0.3871 - Acc: 0.9474 - Val Loss: 0.9948 - Val Acc: 0.7036\n",
            "Epoch 134/150 - Loss: 0.3833 - Acc: 0.9484 - Val Loss: 0.9923 - Val Acc: 0.7047\n",
            "Epoch 135/150 - Loss: 0.3795 - Acc: 0.9493 - Val Loss: 0.9896 - Val Acc: 0.7050\n",
            "Epoch 136/150 - Loss: 0.3758 - Acc: 0.9500 - Val Loss: 0.9871 - Val Acc: 0.7064\n",
            "Epoch 137/150 - Loss: 0.3722 - Acc: 0.9507 - Val Loss: 0.9845 - Val Acc: 0.7069\n",
            "Epoch 138/150 - Loss: 0.3686 - Acc: 0.9516 - Val Loss: 0.9822 - Val Acc: 0.7091\n",
            "Epoch 139/150 - Loss: 0.3650 - Acc: 0.9530 - Val Loss: 0.9799 - Val Acc: 0.7100\n",
            "Epoch 140/150 - Loss: 0.3615 - Acc: 0.9539 - Val Loss: 0.9782 - Val Acc: 0.7097\n",
            "Epoch 141/150 - Loss: 0.3580 - Acc: 0.9548 - Val Loss: 0.9755 - Val Acc: 0.7103\n",
            "Epoch 142/150 - Loss: 0.3546 - Acc: 0.9560 - Val Loss: 0.9730 - Val Acc: 0.7117\n",
            "Epoch 143/150 - Loss: 0.3512 - Acc: 0.9565 - Val Loss: 0.9709 - Val Acc: 0.7131\n",
            "Epoch 144/150 - Loss: 0.3479 - Acc: 0.9575 - Val Loss: 0.9691 - Val Acc: 0.7125\n",
            "Epoch 145/150 - Loss: 0.3446 - Acc: 0.9579 - Val Loss: 0.9666 - Val Acc: 0.7122\n",
            "Epoch 146/150 - Loss: 0.3413 - Acc: 0.9588 - Val Loss: 0.9646 - Val Acc: 0.7133\n",
            "Epoch 147/150 - Loss: 0.3381 - Acc: 0.9593 - Val Loss: 0.9627 - Val Acc: 0.7136\n",
            "Epoch 148/150 - Loss: 0.3349 - Acc: 0.9602 - Val Loss: 0.9608 - Val Acc: 0.7142\n",
            "Epoch 149/150 - Loss: 0.3318 - Acc: 0.9604 - Val Loss: 0.9591 - Val Acc: 0.7142\n",
            "Epoch 150/150 - Loss: 0.3287 - Acc: 0.9614 - Val Loss: 0.9568 - Val Acc: 0.7147\n"
          ]
        }
      ],
      "source": [
        "# Training loop\n",
        "for epoch in range(num_epochs):\n",
        "    model.zero_grad()\n",
        "    mini_batches = create_mini_batches(x_train, y_train, batch_size)\n",
        "    epoch_loss = 0\n",
        "    correct_predictions = 0\n",
        "    total_samples = 0\n",
        "\n",
        "    for x_batch, y_batch in mini_batches:\n",
        "        x_tensor = Tensor(x_batch, requires_grad=True)\n",
        "        logits = model.forward(x_tensor)\n",
        "\n",
        "        # Compute loss and gradients\n",
        "        loss, probs = softmax_cross_entropy_with_logits(logits, y_batch)\n",
        "        epoch_loss += loss * y_batch.shape[0]\n",
        "\n",
        "        # Backward pass\n",
        "        model.backward(logits.grad)\n",
        "\n",
        "        # Update parameters\n",
        "        model.update_params(learning_rate)\n",
        "\n",
        "        # Calculate accuracy\n",
        "        predictions = np.argmax(probs, axis=1)\n",
        "        correct_predictions += np.sum(predictions == y_batch)\n",
        "        total_samples += y_batch.shape[0]\n",
        "\n",
        "        # Zero gradients for next batch\n",
        "        model.zero_grad()\n",
        "\n",
        "    # Average loss and accuracy for the epoch\n",
        "    epoch_loss /= total_samples\n",
        "    train_accuracy = correct_predictions / total_samples\n",
        "    train_losses.append(epoch_loss)\n",
        "    train_accuracies.append(train_accuracy)\n",
        "\n",
        "    # Validation\n",
        "    x_val_tensor = Tensor(x_val, requires_grad=False)\n",
        "    logits_val = model.forward(x_val_tensor)\n",
        "    val_loss, val_probs = softmax_cross_entropy_with_logits(logits_val, y_val)\n",
        "    val_losses.append(val_loss)\n",
        "    val_predictions = np.argmax(val_probs, axis=1)\n",
        "    val_accuracy = np.mean(val_predictions == y_val)\n",
        "    val_accuracies.append(val_accuracy)\n",
        "\n",
        "    print(f\"Epoch {epoch +1}/{num_epochs} - Loss: {epoch_loss:.4f} - Acc: {train_accuracy:.4f} - Val Loss: {val_loss:.4f} - Val Acc: {val_accuracy:.4f}\")"
      ]
    },
    {
      "cell_type": "markdown",
      "metadata": {
        "id": "z3BcUjl6LLoc"
      },
      "source": [
        "### 4.4 Training Results"
      ]
    },
    {
      "cell_type": "markdown",
      "source": [
        "In this section, we analyze the **Training Results** after the model has completed its training process. The training results include both the **training loss and accuracy** and the **validation loss and accuracy** for each epoch.\n",
        "\n",
        "### Key Metrics:\n",
        "\n",
        "- **Training Loss**: The training loss indicates how well the model is performing on the training data. A decreasing training loss over time shows that the model is learning and adjusting its parameters to better fit the training data.\n",
        "\n",
        "- **Validation Loss**: The validation loss measures the model’s performance on unseen validation data. It is important to monitor the validation loss to ensure that the model is not overfitting to the training data. A gap between training loss and validation loss may indicate overfitting.\n",
        "\n",
        "- **Training Accuracy**: This metric tracks the percentage of correct predictions on the training data. A steady increase in training accuracy indicates that the model is improving its ability to classify the training samples.\n",
        "\n",
        "- **Validation Accuracy**: The validation accuracy measures the percentage of correct predictions on the validation data. This metric is crucial for assessing the model’s generalization capability, i.e., how well the model is likely to perform on unseen data.\n",
        "\n",
        "### Interpreting the Results:\n",
        "\n",
        "- **Convergence**: Ideally, both the training and validation loss should decrease over time, and the training and validation accuracy should increase. If the validation accuracy improves while the validation loss decreases, it indicates that the model is generalizing well.\n",
        "\n",
        "- **Overfitting**: If the training accuracy increases while the validation accuracy plateaus or decreases, this may indicate overfitting. The model is performing well on the training data but failing to generalize to unseen data. In such cases, techniques like regularization, dropout, or early stopping can be used.\n",
        "\n",
        "- **Underfitting**: If both the training and validation accuracy are low, and the loss values remain high, this suggests underfitting. The model is not learning enough from the data. This can be addressed by increasing the complexity of the model (e.g., adding more layers or neurons) or allowing the model to train for more epochs.\n",
        "\n",
        "### Conclusion:\n",
        "\n",
        "The training results provide valuable insights into the model’s learning process and its ability to generalize to unseen data. By carefully monitoring the training and validation metrics, we can assess the performance of the model and make adjustments if necessary to improve its accuracy and prevent overfitting or underfitting.\n"
      ],
      "metadata": {
        "id": "rAer4-0sbi7b"
      }
    },
    {
      "cell_type": "code",
      "execution_count": null,
      "metadata": {
        "colab": {
          "base_uri": "https://localhost:8080/",
          "height": 487
        },
        "id": "4SJHSUE3LLoc",
        "outputId": "c38e77ce-f74b-4dfa-cb34-0cbb76672184"
      },
      "outputs": [
        {
          "output_type": "display_data",
          "data": {
            "text/plain": [
              "<Figure size 1200x500 with 2 Axes>"
            ],
            "image/png": "[encoded data removed]"
          },
          "metadata": {}
        }
      ],
      "source": [
        "# Plot training and validation loss\n",
        "plt.figure(figsize=(12, 5))\n",
        "plt.subplot(1, 2, 1)\n",
        "plt.plot(train_losses, label='Training Loss')\n",
        "plt.plot(val_losses, label='Validation Loss')\n",
        "plt.xlabel('Epoch')\n",
        "plt.ylabel('Loss')\n",
        "plt.title('Loss vs. Epoch')\n",
        "plt.legend()\n",
        "\n",
        "# Plot training and validation accuracy\n",
        "plt.subplot(1, 2, 2)\n",
        "plt.plot(train_accuracies, label='Training Accuracy')\n",
        "plt.plot(val_accuracies, label='Validation Accuracy')\n",
        "plt.xlabel('Epoch')\n",
        "plt.ylabel('Accuracy')\n",
        "plt.title('Accuracy vs. Epoch')\n",
        "plt.legend()\n",
        "\n",
        "plt.show()"
      ]
    },
    {
      "cell_type": "markdown",
      "metadata": {
        "id": "V4g38UpgLLoc"
      },
      "source": [
        "## 5. Evaluating the Model"
      ]
    },
    {
      "cell_type": "markdown",
      "source": [
        "In this section, we evaluate the performance of the trained model on the test dataset. After training, it is important to measure how well the model generalizes to unseen data. The evaluation process involves making predictions on the test set and comparing them to the true labels.\n",
        "\n",
        "### Key Components of Model Evaluation:\n",
        "\n",
        "- **Accuracy**: Accuracy is the primary metric used to assess the model's performance. It measures the proportion of correctly predicted labels out of the total number of samples. The formula for accuracy is:\n",
        "\n",
        "  $$\n",
        "  \\text{Accuracy} = \\frac{\\text{Number of Correct Predictions}}{\\text{Total Number of Predictions}}\n",
        "  $$\n",
        "\n",
        "  A higher accuracy indicates that the model has learned to generalize well from the training data to unseen data in the test set.\n",
        "\n",
        "- **Generalization**: The main purpose of evaluating on a separate test set is to understand how well the model generalizes beyond the training data. If the test accuracy is close to the training and validation accuracy, it suggests that the model has generalized well. However, if there is a large drop in test accuracy, it indicates that the model may be overfitting to the training data.\n",
        "\n",
        "### Interpretation of Results:\n",
        "\n",
        "- **High Accuracy**: If the model achieves high accuracy on the test set, it suggests that the model has successfully learned the features and patterns in the ASL dataset. This indicates that the model is effective at predicting hand signs based on the input images.\n",
        "\n",
        "- **Overfitting or Underfitting**: If the test accuracy is significantly lower than the training accuracy, the model may be overfitting. Conversely, if both training and test accuracy are low, the model may be underfitting, suggesting that it did not learn enough from the data.\n",
        "\n",
        "- **Model Limitations**: While accuracy provides a good overall assessment, it’s also important to look at other performance metrics (like precision, recall, and F1-score) for a more detailed evaluation, especially if certain classes are harder to predict than others.\n",
        "\n",
        "By evaluating the model on the test set, we can confirm its ability to recognize ASL signs and determine if further tuning or adjustments are necessary.\n"
      ],
      "metadata": {
        "id": "IqGPaZCNb3Xb"
      }
    },
    {
      "cell_type": "code",
      "execution_count": null,
      "metadata": {
        "colab": {
          "base_uri": "https://localhost:8080/"
        },
        "id": "TOdqez5pLLoe",
        "outputId": "a628b146-e6d6-422c-a3fa-fed45fca5124"
      },
      "outputs": [
        {
          "output_type": "stream",
          "name": "stdout",
          "text": [
            "Test Loss: 0.9342 - Test Accuracy: 0.7136\n"
          ]
        }
      ],
      "source": [
        "# Evaluate on the test set\n",
        "x_test_tensor = Tensor(x_test, requires_grad=False)\n",
        "logits_test = model.forward(x_test_tensor)\n",
        "test_loss, test_probs = softmax_cross_entropy_with_logits(logits_test, y_test)\n",
        "test_predictions = np.argmax(test_probs, axis=1)\n",
        "test_accuracy = np.mean(test_predictions == y_test)\n",
        "print(f\"Test Loss: {test_loss:.4f} - Test Accuracy: {test_accuracy:.4f}\")"
      ]
    },
    {
      "cell_type": "markdown",
      "metadata": {
        "id": "bl2cow4LLLoe"
      },
      "source": [
        "### 5.1 Testing the Model on Random Samples"
      ]
    },
    {
      "cell_type": "markdown",
      "source": [
        "In this section, we test the trained model on random samples from the test dataset to visually inspect its performance. This step is crucial for understanding how well the model performs on individual samples and to verify that it is making reasonable predictions for unseen data.\n",
        "\n",
        "### Key Components:\n",
        "\n",
        "- **Random Sample Selection**: We randomly select an image from the test dataset. This ensures that the sample has not been seen by the model during training, providing an unbiased assessment of the model’s prediction capabilities.\n",
        "  \n",
        "- **Prediction**: The selected test image is passed through the model, which outputs a probability distribution over all the ASL letter classes. The predicted class corresponds to the letter with the highest probability.\n",
        "\n",
        "- **Comparison with True Label**: The predicted label is compared with the true label of the test image to see if the model has made a correct prediction. This allows us to assess how well the model can generalize from training to unseen data.\n",
        "\n",
        "### Justification for Testing on Random Samples:\n",
        "\n",
        "- **Qualitative Assessment**: Testing on random samples gives a qualitative insight into the model's predictions. Rather than relying solely on accuracy or other aggregate metrics, we can visually inspect individual predictions to ensure that the model is making logical and interpretable predictions.\n",
        "\n",
        "- **Spotting Issues**: By observing predictions on individual samples, we can identify any patterns where the model might be failing (e.g., confusing similar hand signs) or any areas where further improvements may be necessary.\n",
        "\n",
        "### Conclusion:\n",
        "\n",
        "Testing the model on random samples from the test set provides an additional layer of evaluation, allowing us to see how well the model performs in real-world scenarios. By comparing its predictions with the true labels, we can gain a better understanding of the model’s strengths and weaknesses.\n"
      ],
      "metadata": {
        "id": "zg2hzy8HcJTq"
      }
    },
    {
      "cell_type": "code",
      "execution_count": null,
      "metadata": {
        "colab": {
          "base_uri": "https://localhost:8080/",
          "height": 1000
        },
        "id": "xSsrbYn_LLoe",
        "outputId": "8715388d-88dd-406c-dbdf-b139c67a51d6"
      },
      "outputs": [
        {
          "output_type": "display_data",
          "data": {
            "text/plain": [
              "<Figure size 640x480 with 1 Axes>"
            ],
            "image/png": "[encoded data removed]"
          },
          "metadata": {}
        },
        {
          "output_type": "stream",
          "name": "stdout",
          "text": [
            "Predicted: a, Actual: a\n",
            "---\n"
          ]
        },
        {
          "output_type": "display_data",
          "data": {
            "text/plain": [
              "<Figure size 640x480 with 1 Axes>"
            ],
            "image/png": "[encoded data removed]"
          },
          "metadata": {}
        },
        {
          "output_type": "stream",
          "name": "stdout",
          "text": [
            "Predicted: d, Actual: d\n",
            "---\n"
          ]
        },
        {
          "output_type": "display_data",
          "data": {
            "text/plain": [
              "<Figure size 640x480 with 1 Axes>"
            ],
            "image/png": "[encoded data removed]"
          },
          "metadata": {}
        },
        {
          "output_type": "stream",
          "name": "stdout",
          "text": [
            "Predicted: m, Actual: m\n",
            "---\n"
          ]
        },
        {
          "output_type": "display_data",
          "data": {
            "text/plain": [
              "<Figure size 640x480 with 1 Axes>"
            ],
            "image/png": "[encoded data removed]"
          },
          "metadata": {}
        },
        {
          "output_type": "stream",
          "name": "stdout",
          "text": [
            "Predicted: a, Actual: q\n",
            "---\n"
          ]
        },
        {
          "output_type": "display_data",
          "data": {
            "text/plain": [
              "<Figure size 640x480 with 1 Axes>"
            ],
            "image/png": "[encoded data removed]"
          },
          "metadata": {}
        },
        {
          "output_type": "stream",
          "name": "stdout",
          "text": [
            "Predicted: c, Actual: c\n",
            "---\n"
          ]
        }
      ],
      "source": [
        "# Test the model on random samples from the test set\n",
        "num_samples = 5\n",
        "for _ in range(num_samples):\n",
        "    idx = np.random.randint(len(y_test))\n",
        "    x_sample = x_test[idx]\n",
        "    y_sample = y_test[idx]\n",
        "    plot_sample(x_test, y_test, idx)\n",
        "    x_input = x_sample.reshape(1, -1)\n",
        "    pred = model.predict(x_input)\n",
        "    print(f\"Predicted: {label_to_letter[pred[0]]}, Actual: {label_to_letter[y_sample]}\")\n",
        "    print('---')"
      ]
    },
    {
      "cell_type": "markdown",
      "metadata": {
        "id": "Te4PAKrQLLoe"
      },
      "source": [
        "## 6. Conclusion\n",
        "\n",
        "By applying the lessons learned from the previous MNIST implementation, we improved our model's performance on the ASL dataset. We used data standardization, gradient tracking with a custom `Tensor` class, weight initialization, and a combined softmax and cross-entropy loss function.\n",
        "\n",
        "**Final Test Accuracy: 0.7136**"
      ]
    },
    {
      "cell_type": "markdown",
      "metadata": {
        "id": "CyovJgfBLLof"
      },
      "source": [
        "## References\n",
        "- Kaggle ASL Alphabet Dataset: [Link](https://www.kaggle.com/datasets/grassknoted/asl-alphabet)\n",
        "- Goodfellow, I., Bengio, Y., & Courville, A. (2016). Deep Learning. MIT Press."
      ]
    }
  ],
  "metadata": {
    "kernelspec": {
      "display_name": "Python 3",
      "language": "python",
      "name": "python3"
    },
    "language_info": {
      "codemirror_mode": {
        "name": "ipython",
        "version": 3
      },
      "file_extension": ".py",
      "mimetype": "text/x-python",
      "name": "python",
      "nbconvert_exporter": "python",
      "pygments_lexer": "ipython3",
      "version": "3.7"
    },
    "colab": {
      "provenance": []
    }
  },
  "nbformat": 4,
  "nbformat_minor": 0
}