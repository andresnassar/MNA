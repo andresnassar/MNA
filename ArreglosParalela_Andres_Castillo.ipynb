{
  "nbformat": 4,
  "nbformat_minor": 0,
  "metadata": {
    "colab": {
      "provenance": []
    },
    "kernelspec": {
      "name": "python3",
      "display_name": "Python 3"
    },
    "language_info": {
      "name": "python"
    }
  },
  "cells": [
    {
      "cell_type": "code",
      "source": [
        "import numpy as np\n",
        "from multiprocessing import Pool, cpu_count\n",
        "\n",
        "# Function to compute the sum of a segment of the arrays\n",
        "def sum_segment(indices):\n",
        "    start, end, array_a, array_b = indices\n",
        "    result = []\n",
        "    for i in range(start, end):\n",
        "        result.append(array_a[i] + array_b[i])\n",
        "    return result\n",
        "\n",
        "def main():\n",
        "    # Define the size of the arrays\n",
        "    N = 1000  # Change this size as needed\n",
        "    array_a = np.random.randint(0, 100, N)  # Random integers between 0 and 99\n",
        "    array_b = np.random.randint(0, 100, N)\n",
        "\n",
        "    # Number of CPU cores\n",
        "    num_cores = cpu_count()\n",
        "\n",
        "    # Divide the work among threads\n",
        "    segment_size = N // num_cores\n",
        "    tasks = []\n",
        "    for i in range(num_cores):\n",
        "        start = i * segment_size\n",
        "        end = (i + 1) * segment_size if i != num_cores - 1 else N\n",
        "        tasks.append((start, end, array_a, array_b))\n",
        "\n",
        "    # Perform parallel computation using a Pool\n",
        "    with Pool(processes=num_cores) as pool:\n",
        "        results = pool.map(sum_segment, tasks)\n",
        "\n",
        "    # Flatten the results into a single list\n",
        "    array_r = [item for sublist in results for item in sublist]\n",
        "\n",
        "    print(\"Array A:\", array_a[:10])\n",
        "    print(\"Array B:\", array_b[:10])\n",
        "    print(\"Result (Array R):\", array_r[:10])\n",
        "\n",
        "if __name__ == \"__main__\":\n",
        "    main()\n"
      ],
      "metadata": {
        "colab": {
          "base_uri": "https://localhost:8080/"
        },
        "id": "sx-gCGQUJ44T",
        "outputId": "8b842783-c68a-4d62-a3cc-d3176768f68b"
      },
      "execution_count": 1,
      "outputs": [
        {
          "output_type": "stream",
          "name": "stdout",
          "text": [
            "Array A: [63  7 85 97 84 57  9 89 98  9]\n",
            "Array B: [74 18 36 65 20 40 56 65 32 53]\n",
            "Result (Array R): [137, 25, 121, 162, 104, 97, 65, 154, 130, 62]\n"
          ]
        }
      ]
    }
  ]
}
